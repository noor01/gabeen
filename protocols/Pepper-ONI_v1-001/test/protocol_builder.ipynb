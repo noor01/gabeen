{
 "cells": [
  {
   "cell_type": "code",
   "execution_count": 1,
   "metadata": {},
   "outputs": [],
   "source": [
    "%load_ext autoreload\n",
    "%autoreload 2\n",
    "import json\n",
    "import sys\n",
    "import os\n",
    "import pandas as pd\n",
    "from math import floor\n",
    "import numpy as np\n",
    "import pickle\n",
    "sys.path.append(os.path.abspath('../../../utils'))\n",
    "from protocol_system_compiler import *"
   ]
  },
  {
   "cell_type": "code",
   "execution_count": 2,
   "metadata": {},
   "outputs": [],
   "source": [
    "fluids = pd.read_csv('fluids.csv')"
   ]
  },
  {
   "cell_type": "code",
   "execution_count": 3,
   "metadata": {},
   "outputs": [
    {
     "data": {
      "text/html": [
       "<div>\n",
       "<style scoped>\n",
       "    .dataframe tbody tr th:only-of-type {\n",
       "        vertical-align: middle;\n",
       "    }\n",
       "\n",
       "    .dataframe tbody tr th {\n",
       "        vertical-align: top;\n",
       "    }\n",
       "\n",
       "    .dataframe thead th {\n",
       "        text-align: right;\n",
       "    }\n",
       "</style>\n",
       "<table border=\"1\" class=\"dataframe\">\n",
       "  <thead>\n",
       "    <tr style=\"text-align: right;\">\n",
       "      <th></th>\n",
       "      <th>NodeID</th>\n",
       "      <th>FluidType</th>\n",
       "      <th>BufferName</th>\n",
       "      <th>LoadVolume</th>\n",
       "    </tr>\n",
       "  </thead>\n",
       "  <tbody>\n",
       "    <tr>\n",
       "      <th>0</th>\n",
       "      <td>ot2</td>\n",
       "      <td>source</td>\n",
       "      <td>ot2</td>\n",
       "      <td>3</td>\n",
       "    </tr>\n",
       "    <tr>\n",
       "      <th>1</th>\n",
       "      <td>2</td>\n",
       "      <td>source</td>\n",
       "      <td>wash buffer</td>\n",
       "      <td>40</td>\n",
       "    </tr>\n",
       "    <tr>\n",
       "      <th>2</th>\n",
       "      <td>3</td>\n",
       "      <td>source</td>\n",
       "      <td>imaging buffer</td>\n",
       "      <td>21</td>\n",
       "    </tr>\n",
       "    <tr>\n",
       "      <th>3</th>\n",
       "      <td>4</td>\n",
       "      <td>source</td>\n",
       "      <td>tcep</td>\n",
       "      <td>20</td>\n",
       "    </tr>\n",
       "    <tr>\n",
       "      <th>4</th>\n",
       "      <td>5</td>\n",
       "      <td>source</td>\n",
       "      <td>2x-SSC</td>\n",
       "      <td>50</td>\n",
       "    </tr>\n",
       "    <tr>\n",
       "      <th>5</th>\n",
       "      <td>6</td>\n",
       "      <td>source</td>\n",
       "      <td>universal_fluors</td>\n",
       "      <td>15</td>\n",
       "    </tr>\n",
       "    <tr>\n",
       "      <th>6</th>\n",
       "      <td>7</td>\n",
       "      <td>source</td>\n",
       "      <td>NaN</td>\n",
       "      <td>0</td>\n",
       "    </tr>\n",
       "    <tr>\n",
       "      <th>7</th>\n",
       "      <td>8</td>\n",
       "      <td>source</td>\n",
       "      <td>NaN</td>\n",
       "      <td>0</td>\n",
       "    </tr>\n",
       "    <tr>\n",
       "      <th>8</th>\n",
       "      <td>waste</td>\n",
       "      <td>destination</td>\n",
       "      <td>waste_tank</td>\n",
       "      <td>0</td>\n",
       "    </tr>\n",
       "  </tbody>\n",
       "</table>\n",
       "</div>"
      ],
      "text/plain": [
       "  NodeID    FluidType        BufferName  LoadVolume\n",
       "0    ot2       source               ot2           3\n",
       "1      2       source       wash buffer          40\n",
       "2      3       source    imaging buffer          21\n",
       "3      4       source              tcep          20\n",
       "4      5       source            2x-SSC          50\n",
       "5      6       source  universal_fluors          15\n",
       "6      7       source               NaN           0\n",
       "7      8       source               NaN           0\n",
       "8  waste  destination        waste_tank           0"
      ]
     },
     "execution_count": 3,
     "metadata": {},
     "output_type": "execute_result"
    }
   ],
   "source": [
    "fluids"
   ]
  },
  {
   "cell_type": "code",
   "execution_count": 61,
   "metadata": {},
   "outputs": [],
   "source": [
    "labware = {'tips_200':{\n",
    "    'api_name': 'opentrons_96_filtertiprack_200ul',\n",
    "    'location': '1',\n",
    "    'creator': 'opentrons'\n",
    "},\n",
    "           'tips_1000':{\n",
    "    'api_name': 'opentrons_96_filtertiprack_1000ul',\n",
    "    'location': '3',\n",
    "    'creator': 'opentrons'\n",
    "},\n",
    "              'reservoir1':{\n",
    "    'api_name': 'nest_12_reservoir_15ml',\n",
    "    'location': '5',\n",
    "    'creator': 'opentrons'\n",
    "                },\n",
    "              'wellplate1':{\n",
    "    'api_name': 'nest_96_wellplate_2ml_deep',\n",
    "    'location': '7',\n",
    "    'creator': 'opentrons'\n",
    "                },\n",
    "              'syringe_adapter':{\n",
    "    'api_name': 'yeolab_1_bd_syringe_adap_3000ul',\n",
    "    'location': '10',\n",
    "    'creator': 'custom'\n",
    "                },\n",
    "              }\n",
    "hardware = {'p200':{\n",
    "    'api_name': 'p300_single_gen2',\n",
    "    'mount': 'left',\n",
    "    'tip_racks': ['tips_200']},\n",
    "            'p1000':{\n",
    "    'api_name': 'p1000_single_gen2',\n",
    "    'mount': 'right',\n",
    "    'tip_racks': ['tips_1000']}}\n",
    "\n",
    "metadata = {'apiLevel': '2.14'}\n",
    "\n",
    "ot2_config = {'labware':labware,\n",
    "              'hardware':hardware,\n",
    "              'metadata':metadata}"
   ]
  },
  {
   "cell_type": "code",
   "execution_count": 63,
   "metadata": {},
   "outputs": [],
   "source": [
    "reagents = {}\n"
   ]
  },
  {
   "cell_type": "code",
   "execution_count": 64,
   "metadata": {},
   "outputs": [],
   "source": [
    "def generate_well_pos(well_num,total=96,ncol=12,nrow=8):\n",
    "    row = well_num//ncol\n",
    "    col = well_num%ncol\n",
    "    return chr(65+row)+str(col+1)"
   ]
  },
  {
   "cell_type": "code",
   "execution_count": 65,
   "metadata": {},
   "outputs": [],
   "source": [
    "num_rounds = 2\n",
    "for i in range(num_rounds):\n",
    "    reagents['round'+str(i+1)] = {'labware':'wellplate1',\n",
    "                                'location':generate_well_pos(i+2),\n",
    "                                'volume':750,\n",
    "                           'hardware':'p1000',\n",
    "                           'repeat':2}"
   ]
  },
  {
   "cell_type": "code",
   "execution_count": 66,
   "metadata": {},
   "outputs": [],
   "source": [
    "def get_fluid_node(buffer):\n",
    "    return fluids[fluids['BufferName']==buffer]['NodeID'].iloc[0]"
   ]
  },
  {
   "cell_type": "code",
   "execution_count": 73,
   "metadata": {},
   "outputs": [],
   "source": [
    "experiment = {}"
   ]
  },
  {
   "cell_type": "code",
   "execution_count": 74,
   "metadata": {},
   "outputs": [],
   "source": [
    "step_n = 0"
   ]
  },
  {
   "cell_type": "code",
   "execution_count": 75,
   "metadata": {},
   "outputs": [
    {
     "data": {
      "text/plain": [
       "{'labware': 'wellplate1',\n",
       " 'location': 'A4',\n",
       " 'volume': 750,\n",
       " 'hardware': 'p1000',\n",
       " 'repeat': 2}"
      ]
     },
     "execution_count": 75,
     "metadata": {},
     "output_type": "execute_result"
    }
   ],
   "source": [
    "reagents['round2']"
   ]
  },
  {
   "cell_type": "markdown",
   "metadata": {},
   "source": [
    "# Testing for imaging"
   ]
  },
  {
   "cell_type": "code",
   "execution_count": 76,
   "metadata": {},
   "outputs": [],
   "source": [
    "for round_n in range(1,3):\n",
    "    experiment[step_n] = {}\n",
    "    experiment[step_n]['step_type'] = 'liquid_handler'\n",
    "    experiment[step_n]['step_metadata'] = {}\n",
    "    experiment[step_n]['step_metadata']['reagent'] = f'round{round_n}'\n",
    "    experiment[step_n]['step_metadata']['info'] = reagents[f'round{round_n}']\n",
    "    experiment[step_n]['step_metadata']['destination'] = 'syringe_adapter'\n",
    "    experiment[step_n]['slack_notify'] = False\n",
    "    step_n += 1\n",
    "    \n",
    "    experiment[step_n] = {}\n",
    "    experiment[step_n]['step_type'] = 'fluid'\n",
    "    experiment[step_n]['step_metadata'] = {}\n",
    "    experiment[step_n]['step_metadata']['fluid'] = get_fluid_node('ot2')\n",
    "    experiment[step_n]['step_metadata']['volume'] = 1.5\n",
    "    experiment[step_n]['step_metadata']['speed'] = 1\n",
    "    experiment[step_n]['slack_notify'] = False\n",
    "    step_n += 1\n",
    "    \n",
    "    experiment[step_n] = {}\n",
    "    experiment[step_n]['step_type'] = 'wait'\n",
    "    experiment[step_n]['step_metadata'] = {}\n",
    "    experiment[step_n]['step_metadata']['wait_time'] = 30 # 15 minutes\n",
    "    experiment[step_n]['slack_notify'] = False\n",
    "    step_n += 1\n",
    "    \n",
    "    experiment[step_n] = {}\n",
    "    experiment[step_n]['step_type'] = 'image'\n",
    "    experiment[step_n]['step_metadata'] = {}\n",
    "    experiment[step_n]['step_metadata']['filename'] = f'round_{round_n}'\n",
    "    experiment[step_n]['step_metadata']['callibrate_af'] = True\n",
    "    experiment[step_n]['slack_notify'] = True\n",
    "    step_n += 1"
   ]
  },
  {
   "cell_type": "code",
   "execution_count": 77,
   "metadata": {},
   "outputs": [
    {
     "data": {
      "text/plain": [
       "{0: {'step_type': 'liquid_handler',\n",
       "  'step_metadata': {'reagent': 'round1',\n",
       "   'info': {'labware': 'wellplate1',\n",
       "    'location': 'A3',\n",
       "    'volume': 750,\n",
       "    'hardware': 'p1000',\n",
       "    'repeat': 2},\n",
       "   'destination': 'syringe_adapter'},\n",
       "  'slack_notify': False},\n",
       " 1: {'step_type': 'fluid',\n",
       "  'step_metadata': {'fluid': 'ot2', 'volume': 1.5, 'speed': 1},\n",
       "  'slack_notify': False},\n",
       " 2: {'step_type': 'wait',\n",
       "  'step_metadata': {'wait_time': 30},\n",
       "  'slack_notify': False},\n",
       " 3: {'step_type': 'image',\n",
       "  'step_metadata': {'filename': 'round_1', 'callibrate_af': True},\n",
       "  'slack_notify': True},\n",
       " 4: {'step_type': 'liquid_handler',\n",
       "  'step_metadata': {'reagent': 'round2',\n",
       "   'info': {'labware': 'wellplate1',\n",
       "    'location': 'A4',\n",
       "    'volume': 750,\n",
       "    'hardware': 'p1000',\n",
       "    'repeat': 2},\n",
       "   'destination': 'syringe_adapter'},\n",
       "  'slack_notify': False},\n",
       " 5: {'step_type': 'fluid',\n",
       "  'step_metadata': {'fluid': 'ot2', 'volume': 1.5, 'speed': 1},\n",
       "  'slack_notify': False},\n",
       " 6: {'step_type': 'wait',\n",
       "  'step_metadata': {'wait_time': 30},\n",
       "  'slack_notify': False},\n",
       " 7: {'step_type': 'image',\n",
       "  'step_metadata': {'filename': 'round_2', 'callibrate_af': True},\n",
       "  'slack_notify': True}}"
      ]
     },
     "execution_count": 77,
     "metadata": {},
     "output_type": "execute_result"
    }
   ],
   "source": [
    "experiment"
   ]
  },
  {
   "cell_type": "code",
   "execution_count": null,
   "metadata": {},
   "outputs": [],
   "source": []
  },
  {
   "cell_type": "markdown",
   "metadata": {},
   "source": [
    "# Testing for OT2"
   ]
  },
  {
   "cell_type": "code",
   "execution_count": 18,
   "metadata": {},
   "outputs": [],
   "source": [
    "for round_n in range(1,2):\n",
    "    experiment[step_n] = {}\n",
    "    experiment[step_n]['step_type'] = 'liquid_handler'\n",
    "    experiment[step_n]['step_metadata'] = {}\n",
    "    experiment[step_n]['step_metadata']['reagent'] = f'round{round_n}'\n",
    "    experiment[step_n]['step_metadata']['info'] = reagents[f'round{round_n}']\n",
    "    experiment[step_n]['step_metadata']['destination'] = 'syringe_adapter'\n",
    "    experiment[step_n]['slack_notify'] = False\n",
    "    step_n += 1\n",
    "    \n",
    "    experiment[step_n] = {}\n",
    "    experiment[step_n]['step_type'] = 'fluid'\n",
    "    experiment[step_n]['step_metadata'] = {}\n",
    "    experiment[step_n]['step_metadata']['fluid'] = get_fluid_node('ot2')\n",
    "    experiment[step_n]['step_metadata']['volume'] = 1.5\n",
    "    experiment[step_n]['step_metadata']['speed'] = 1\n",
    "    experiment[step_n]['slack_notify'] = False\n",
    "    step_n += 1\n",
    "    \"\"\"\n",
    "    experiment[step_n] = {}\n",
    "    experiment[step_n]['step_type'] = 'wait'\n",
    "    experiment[step_n]['step_metadata'] = {}\n",
    "    experiment[step_n]['step_metadata']['wait_time'] = 10 # 15 minutes\n",
    "    experiment[step_n]['slack_notify'] = False\n",
    "    step_n += 1\n",
    "    \"\"\""
   ]
  },
  {
   "cell_type": "code",
   "execution_count": 33,
   "metadata": {},
   "outputs": [
    {
     "data": {
      "text/plain": [
       "{0: {'step_type': 'liquid_handler',\n",
       "  'step_metadata': {'reagent': 'round1',\n",
       "   'info': {'labware': 'wellplate1',\n",
       "    'location': 'A2',\n",
       "    'volume': 750,\n",
       "    'hardware': 'p1000',\n",
       "    'repeat': 2},\n",
       "   'destination': 'yeolab_1_bd_syringe_adap_3000ul'},\n",
       "  'slack_notify': False},\n",
       " 1: {'step_type': 'fluid',\n",
       "  'step_metadata': {'fluid': 'ot2', 'volume': 1.5, 'speed': 1},\n",
       "  'slack_notify': False},\n",
       " 2: {'step_type': 'wait',\n",
       "  'step_metadata': {'wait_time': 900},\n",
       "  'slack_notify': False},\n",
       " 3: {'step_type': 'image',\n",
       "  'step_metadata': {'filename': 'round_1', 'callibrate_af': True},\n",
       "  'slack_notify': True},\n",
       " 4: {'step_type': 'liquid_handler',\n",
       "  'step_metadata': {'reagent': 'round2',\n",
       "   'info': {'labware': 'wellplate1',\n",
       "    'location': 'A3',\n",
       "    'volume': 750,\n",
       "    'hardware': 'p1000',\n",
       "    'repeat': 2},\n",
       "   'destination': 'yeolab_1_bd_syringe_adap_3000ul'},\n",
       "  'slack_notify': False},\n",
       " 5: {'step_type': 'fluid',\n",
       "  'step_metadata': {'fluid': 'ot2', 'volume': 1.5, 'speed': 1},\n",
       "  'slack_notify': False},\n",
       " 6: {'step_type': 'wait',\n",
       "  'step_metadata': {'wait_time': 900},\n",
       "  'slack_notify': False},\n",
       " 7: {'step_type': 'image',\n",
       "  'step_metadata': {'filename': 'round_2', 'callibrate_af': True},\n",
       "  'slack_notify': True}}"
      ]
     },
     "execution_count": 33,
     "metadata": {},
     "output_type": "execute_result"
    }
   ],
   "source": [
    "experiment"
   ]
  },
  {
   "cell_type": "code",
   "execution_count": 78,
   "metadata": {},
   "outputs": [],
   "source": [
    "with open('experiment.json', 'w+') as f:\n",
    "    json.dump(experiment, f, indent=4)\n"
   ]
  },
  {
   "cell_type": "code",
   "execution_count": 62,
   "metadata": {},
   "outputs": [],
   "source": [
    "with open('ot2_config.json', 'w+') as f:\n",
    "    json.dump(ot2_config, f, indent=4)\n"
   ]
  },
  {
   "cell_type": "code",
   "execution_count": 41,
   "metadata": {},
   "outputs": [],
   "source": [
    "with open('experiment.json', 'r') as f:\n",
    "    e = json.load(f)"
   ]
  },
  {
   "cell_type": "code",
   "execution_count": 44,
   "metadata": {},
   "outputs": [
    {
     "data": {
      "text/plain": [
       "True"
      ]
     },
     "execution_count": 44,
     "metadata": {},
     "output_type": "execute_result"
    }
   ],
   "source": [
    "e['3']['step_metadata']['callibrate_af']"
   ]
  },
  {
   "cell_type": "code",
   "execution_count": 16,
   "metadata": {},
   "outputs": [],
   "source": [
    "def get_tip_num(experiment,step_num):\n",
    "    # figure out which steps are liquid handling rounds\n",
    "    liquid_handling_steps = []\n",
    "    for step, value in experiment.items():\n",
    "        if value['step_type'] == 'liquid_handler':\n",
    "            liquid_handling_steps.append(step)\n",
    "    tip_num = liquid_handling_steps.index(step_num)\n",
    "    return tip_num"
   ]
  },
  {
   "cell_type": "code",
   "execution_count": 22,
   "metadata": {},
   "outputs": [],
   "source": [
    "# keys needed in oni_params dictionary\n",
    "# 'xy_start', 'start_z', 'offset_z', \"oni_json\", 'config', 'picked_fovs' (bool if fovs were picked), 'fov_positions'\n",
    "# within oni_json\n",
    "# 'microscope_name', 'cropping'\n",
    "# within 'config'\n",
    "# 'steps' <-- contains light_program, 'movementOptions' <-- ['customXYPositions_mm'['position'], 'numberOfStepsInXY','fovIncrement_mm','zStackStartPosition_um','numberOfZSlices','spacingBetweenZSlices_um','exposure_ms','power']\n",
    "#|___list of steps each with keys 'exposure_ms', 'power'\n"
   ]
  },
  {
   "cell_type": "markdown",
   "metadata": {},
   "source": [
    "# Creating ONI imaging parameters"
   ]
  },
  {
   "cell_type": "code",
   "execution_count": 18,
   "metadata": {},
   "outputs": [],
   "source": [
    "old_oni_config = {\"doSIMDeconvolution\":False,\"imagingMode\":\"NORMAL\",\"lightProgramToUse\":\"None\",\"movementOptions\":{\"autoFocusWhen\":0,\"customXYPositions_mm\":[{\"offset\":0.0,\"position\":{\"x\":0.529711,\"y\":-0.11074500000000001,\"z\":-0.45599900000000004}}],\"disableZLockDuringMove\":False,\"doMoveXY\":True,\"doMoveZ\":True,\"doZStack\":True,\"fovIncrement_mm\":{\"x\":0.08345999908447266,\"y\":0.13337998962402345},\"movementMode\":0,\"numberOfStepsInXY\":{\"x\":40,\"y\":10},\"numberOfZSlices\":10,\"spacingBetweenZSlices_um\":0.444,\"startPositionXYZ_mm\":{\"offset\":0.0,\"position\":{\"x\":0.52971,\"y\":-0.11074500000000001,\"z\":-0.45599900000000004}},\"zReferenceMode\":1,\"zStackMovementMode\":0,\"zStackStartPosition_um\":2.0},\"numFramesPerXYZPosition\":1,\"orderPriority\":2,\"savingOptions\":{\"combinationType\":\"cropped\",\"combineDatasets\":False,\"dataSetDirectory\":\"im_test\",\"dataSetTag\":\"config\",\"disableTiffSaving\":False,\"doLocalisation\":True,\"exposure_ms\":33.0,\"savingMode\":\"DataSetPerPosition\",\"simSaveSummedImage\":False,\"useAdvancedMacros\":False},\"steps\":[{\"exposure_ms\":33.0,\"imagingMode\":\"NORMAL\",\"lightStates\":[{\"on\":True,\"powerControlMethod\":0,\"value\":10.0},{\"on\":False,\"powerControlMethod\":0,\"value\":0.0},{\"on\":False,\"powerControlMethod\":0,\"value\":0.0},{\"on\":False,\"powerControlMethod\":0,\"value\":0.0}],\"numberOfFrames\":1,\"transState\":{\"colour\":2,\"intensity\":0.0,\"on\":False}}],\"timelapseOptions\":{\"doTimelapse\":False,\"leaveAutoFocusOnBetweenRepetitions\":False,\"numberOfRepetitionsOfMultiAcquisition\":1,\"repetitionMode\":\"FixedNumberOfRepetions\",\"repetitionPeriod_ms\":0,\"returnToFirstPositionAtEnd\":True,\"totalTime_ms\":0},\"version\":\"Development build: Apr  9 2023 22:54:56 Version: 1.19.7.20230409223555 - 28f00b5\",\"waitTimeAfterStageMovement_ms\":0,\"waitTimeAfterSwitchingLasersOn_ms\":50}"
   ]
  },
  {
   "cell_type": "code",
   "execution_count": 19,
   "metadata": {},
   "outputs": [],
   "source": [
    "import pprint"
   ]
  },
  {
   "cell_type": "code",
   "execution_count": 20,
   "metadata": {},
   "outputs": [
    {
     "name": "stdout",
     "output_type": "stream",
     "text": [
      "{'doSIMDeconvolution': False,\n",
      " 'imagingMode': 'NORMAL',\n",
      " 'lightProgramToUse': 'None',\n",
      " 'movementOptions': {'autoFocusWhen': 0,\n",
      "                     'customXYPositions_mm': [{'offset': 0.0,\n",
      "                                               'position': {'x': 0.529711,\n",
      "                                                            'y': -0.11074500000000001,\n",
      "                                                            'z': -0.45599900000000004}}],\n",
      "                     'disableZLockDuringMove': False,\n",
      "                     'doMoveXY': True,\n",
      "                     'doMoveZ': True,\n",
      "                     'doZStack': True,\n",
      "                     'fovIncrement_mm': {'x': 0.08345999908447266,\n",
      "                                         'y': 0.13337998962402345},\n",
      "                     'movementMode': 0,\n",
      "                     'numberOfStepsInXY': {'x': 40, 'y': 10},\n",
      "                     'numberOfZSlices': 10,\n",
      "                     'spacingBetweenZSlices_um': 0.444,\n",
      "                     'startPositionXYZ_mm': {'offset': 0.0,\n",
      "                                             'position': {'x': 0.52971,\n",
      "                                                          'y': -0.11074500000000001,\n",
      "                                                          'z': -0.45599900000000004}},\n",
      "                     'zReferenceMode': 1,\n",
      "                     'zStackMovementMode': 0,\n",
      "                     'zStackStartPosition_um': 2.0},\n",
      " 'numFramesPerXYZPosition': 1,\n",
      " 'orderPriority': 2,\n",
      " 'savingOptions': {'combinationType': 'cropped',\n",
      "                   'combineDatasets': False,\n",
      "                   'dataSetDirectory': 'im_test',\n",
      "                   'dataSetTag': 'config',\n",
      "                   'disableTiffSaving': False,\n",
      "                   'doLocalisation': True,\n",
      "                   'exposure_ms': 33.0,\n",
      "                   'savingMode': 'DataSetPerPosition',\n",
      "                   'simSaveSummedImage': False,\n",
      "                   'useAdvancedMacros': False},\n",
      " 'steps': [{'exposure_ms': 33.0,\n",
      "            'imagingMode': 'NORMAL',\n",
      "            'lightStates': [{'on': True,\n",
      "                             'powerControlMethod': 0,\n",
      "                             'value': 10.0},\n",
      "                            {'on': False,\n",
      "                             'powerControlMethod': 0,\n",
      "                             'value': 0.0},\n",
      "                            {'on': False,\n",
      "                             'powerControlMethod': 0,\n",
      "                             'value': 0.0},\n",
      "                            {'on': False,\n",
      "                             'powerControlMethod': 0,\n",
      "                             'value': 0.0}],\n",
      "            'numberOfFrames': 1,\n",
      "            'transState': {'colour': 2, 'intensity': 0.0, 'on': False}}],\n",
      " 'timelapseOptions': {'doTimelapse': False,\n",
      "                      'leaveAutoFocusOnBetweenRepetitions': False,\n",
      "                      'numberOfRepetitionsOfMultiAcquisition': 1,\n",
      "                      'repetitionMode': 'FixedNumberOfRepetions',\n",
      "                      'repetitionPeriod_ms': 0,\n",
      "                      'returnToFirstPositionAtEnd': True,\n",
      "                      'totalTime_ms': 0},\n",
      " 'version': 'Development build: Apr  9 2023 22:54:56 Version: '\n",
      "            '1.19.7.20230409223555 - 28f00b5',\n",
      " 'waitTimeAfterStageMovement_ms': 0,\n",
      " 'waitTimeAfterSwitchingLasersOn_ms': 50}\n"
     ]
    }
   ],
   "source": [
    "pprint.pprint(old_oni_config)"
   ]
  },
  {
   "cell_type": "code",
   "execution_count": 21,
   "metadata": {},
   "outputs": [
    {
     "data": {
      "text/plain": [
       "{'xy_start': 0, 'start_z': -466, 'offset_z': -466}"
      ]
     },
     "execution_count": 21,
     "metadata": {},
     "output_type": "execute_result"
    }
   ],
   "source": [
    "{\n",
    "    \"xy_start\": 0,\n",
    "    \"start_z\": -466,\n",
    "    \"offset_z\": -466\n",
    "}"
   ]
  },
  {
   "cell_type": "code",
   "execution_count": 79,
   "metadata": {},
   "outputs": [],
   "source": [
    "oni_params = {\n",
    "    \"cropping\": {\n",
    "        \"top-left\": [130, 5],\n",
    "        \"top-right\": [140, 595],\n",
    "        \"width\": 428,\n",
    "        \"height\": 684\n",
    "    },\n",
    "    \"safe_focus\": {\n",
    "        \"upper_thresh\": 2000,\n",
    "        \"lower_thresh\": -450\n",
    "    },\n",
    "    \"microscope_name\": \"60xAALZ7W2T\",\n",
    "    \"xy_positions_mm\": {},\n",
    "    \"z_relative_positions_um\": [],\n",
    "    \"light_program\":[{'laser_power': [10.0, 0.0, 0.0, 0.0], 'exposure_ms': 33}],\n",
    "    \"start_z\": -675,\n",
    "    \"num_z_slices\": 10,\n",
    "    \"relative_top_z_um\": 2.0,\n",
    "    \"relative_bottom_z_um\": -2.0,\n",
    "    'fovIncrement_mm': {'x': 0.08345999908447266,'y': 0.13337998962402345} # ONI default with no overlap\n",
    "}"
   ]
  },
  {
   "cell_type": "code",
   "execution_count": 80,
   "metadata": {},
   "outputs": [],
   "source": [
    "def _make_tiles(starting_pos,n_x,n_y,x_inc_um,y_inc_um):\n",
    "        x_start = starting_pos['x']\n",
    "        y_start = starting_pos['y']\n",
    "        positions = []\n",
    "        xs = list(range(0,n_x))\n",
    "        ys = list(range(0,n_y))\n",
    "        if (len(ys) % 2) == 0:\n",
    "            all_xs = (xs + list(reversed(xs)))*floor(len(ys)/2)\n",
    "        else:\n",
    "            all_xs = (xs + list(reversed(xs)))*floor(len(ys)/2)\n",
    "            all_xs += xs\n",
    "        all_ys = []\n",
    "        for y in ys:\n",
    "            all_ys += [y]*len(xs)\n",
    "        tmp_positions = list(zip(all_xs,all_ys))\n",
    "        positions = []\n",
    "        for pos in tmp_positions:\n",
    "            positions.append([x_start + (pos[0] * x_inc_um), y_start + (pos[1] * y_inc_um)])\n",
    "        return positions\n",
    "\n",
    "# custom_positions = None\n",
    "def position_generator(oni_params,custom_positions,starting_xy_um={'x':0,'y':0},tile_num_x=1,tile_num_y=1,overlap=0.0):\n",
    "    if custom_positions is not None:\n",
    "        oni_params['xy_positions_mm'] = custom_positions\n",
    "    else:\n",
    "        x_inc_um = (oni_params['fovIncrement_mm']['x'] * 1000) * (1 - overlap)\n",
    "        y_inc_um = (oni_params['fovIncrement_mm']['y'] * 1000) * (1 - overlap)\n",
    "        oni_params['xy_positions_mm'] = _make_tiles(starting_xy_um,tile_num_x,tile_num_y,x_inc_um,y_inc_um)\n",
    "    # generate relative_zs\n",
    "    oni_params['z_relative_positions_um'] = np.linspace(oni_params['relative_top_z_um'],oni_params['relative_bottom_z_um'],oni_params['num_z_slices']).tolist()\n",
    "    return oni_params"
   ]
  },
  {
   "cell_type": "code",
   "execution_count": 81,
   "metadata": {},
   "outputs": [],
   "source": [
    "oni_params = position_generator(oni_params,None,{'x':5.25*1000,'y':2*1000},10,5,0.0)"
   ]
  },
  {
   "cell_type": "code",
   "execution_count": 82,
   "metadata": {},
   "outputs": [
    {
     "data": {
      "text/plain": [
       "{'cropping': {'top-left': [130, 5],\n",
       "  'top-right': [140, 595],\n",
       "  'width': 428,\n",
       "  'height': 684},\n",
       " 'safe_focus': {'upper_thresh': 2000, 'lower_thresh': -450},\n",
       " 'microscope_name': '60xAALZ7W2T',\n",
       " 'xy_positions_mm': [[5250.0, 2000.0],\n",
       "  [5333.459999084473, 2000.0],\n",
       "  [5416.919998168945, 2000.0],\n",
       "  [5500.379997253418, 2000.0],\n",
       "  [5583.839996337891, 2000.0],\n",
       "  [5667.299995422363, 2000.0],\n",
       "  [5750.759994506836, 2000.0],\n",
       "  [5834.219993591309, 2000.0],\n",
       "  [5917.679992675781, 2000.0],\n",
       "  [6001.139991760254, 2000.0],\n",
       "  [6001.139991760254, 2133.3799896240234],\n",
       "  [5917.679992675781, 2133.3799896240234],\n",
       "  [5834.219993591309, 2133.3799896240234],\n",
       "  [5750.759994506836, 2133.3799896240234],\n",
       "  [5667.299995422363, 2133.3799896240234],\n",
       "  [5583.839996337891, 2133.3799896240234],\n",
       "  [5500.379997253418, 2133.3799896240234],\n",
       "  [5416.919998168945, 2133.3799896240234],\n",
       "  [5333.459999084473, 2133.3799896240234],\n",
       "  [5250.0, 2133.3799896240234],\n",
       "  [5250.0, 2266.759979248047],\n",
       "  [5333.459999084473, 2266.759979248047],\n",
       "  [5416.919998168945, 2266.759979248047],\n",
       "  [5500.379997253418, 2266.759979248047],\n",
       "  [5583.839996337891, 2266.759979248047],\n",
       "  [5667.299995422363, 2266.759979248047],\n",
       "  [5750.759994506836, 2266.759979248047],\n",
       "  [5834.219993591309, 2266.759979248047],\n",
       "  [5917.679992675781, 2266.759979248047],\n",
       "  [6001.139991760254, 2266.759979248047],\n",
       "  [6001.139991760254, 2400.1399688720703],\n",
       "  [5917.679992675781, 2400.1399688720703],\n",
       "  [5834.219993591309, 2400.1399688720703],\n",
       "  [5750.759994506836, 2400.1399688720703],\n",
       "  [5667.299995422363, 2400.1399688720703],\n",
       "  [5583.839996337891, 2400.1399688720703],\n",
       "  [5500.379997253418, 2400.1399688720703],\n",
       "  [5416.919998168945, 2400.1399688720703],\n",
       "  [5333.459999084473, 2400.1399688720703],\n",
       "  [5250.0, 2400.1399688720703],\n",
       "  [5250.0, 2533.5199584960938],\n",
       "  [5333.459999084473, 2533.5199584960938],\n",
       "  [5416.919998168945, 2533.5199584960938],\n",
       "  [5500.379997253418, 2533.5199584960938],\n",
       "  [5583.839996337891, 2533.5199584960938],\n",
       "  [5667.299995422363, 2533.5199584960938],\n",
       "  [5750.759994506836, 2533.5199584960938],\n",
       "  [5834.219993591309, 2533.5199584960938],\n",
       "  [5917.679992675781, 2533.5199584960938],\n",
       "  [6001.139991760254, 2533.5199584960938]],\n",
       " 'z_relative_positions_um': [2.0,\n",
       "  1.5555555555555556,\n",
       "  1.1111111111111112,\n",
       "  0.6666666666666667,\n",
       "  0.22222222222222232,\n",
       "  -0.22222222222222232,\n",
       "  -0.6666666666666665,\n",
       "  -1.1111111111111107,\n",
       "  -1.5555555555555554,\n",
       "  -2.0],\n",
       " 'light_program': [{'laser_power': [10.0, 0.0, 0.0, 0.0], 'exposure_ms': 33}],\n",
       " 'start_z': -675,\n",
       " 'num_z_slices': 10,\n",
       " 'relative_top_z_um': 2.0,\n",
       " 'relative_bottom_z_um': -2.0,\n",
       " 'fovIncrement_mm': {'x': 0.08345999908447266, 'y': 0.13337998962402345}}"
      ]
     },
     "execution_count": 82,
     "metadata": {},
     "output_type": "execute_result"
    }
   ],
   "source": [
    "oni_params"
   ]
  },
  {
   "cell_type": "code",
   "execution_count": 83,
   "metadata": {},
   "outputs": [],
   "source": [
    "with open('oni_params.pkl', 'wb') as f:\n",
    "    pickle.dump(oni_params, f)"
   ]
  },
  {
   "cell_type": "code",
   "execution_count": 26,
   "metadata": {},
   "outputs": [],
   "source": [
    "parent_dir = os.path.abspath('../../../')"
   ]
  },
  {
   "cell_type": "code",
   "execution_count": 27,
   "metadata": {},
   "outputs": [
    {
     "name": "stdout",
     "output_type": "stream",
     "text": [
      "Checking for:\n",
      "/Users/noorsherahmed/Library/CloudStorage/Dropbox/Yeo_lab/Noor/gabeen/system-files/Pepper-ONI_v1-001/comports.json\n",
      "/Users/noorsherahmed/Library/CloudStorage/Dropbox/Yeo_lab/Noor/gabeen/system-files/Pepper-ONI_v1-001/fluid_nodes.csv\n",
      "/Users/noorsherahmed/Library/CloudStorage/Dropbox/Yeo_lab/Noor/gabeen/protocols/Pepper-ONI_v1-001/test/experiment.json\n",
      "/Users/noorsherahmed/Library/CloudStorage/Dropbox/Yeo_lab/Noor/gabeen/system-files/Pepper-ONI_v1-001/fluid_edges.csv\n",
      "/Users/noorsherahmed/Library/CloudStorage/Dropbox/Yeo_lab/Noor/gabeen/protocols/Pepper-ONI_v1-001/test/fluids.csv\n",
      "/Users/noorsherahmed/Library/CloudStorage/Dropbox/Yeo_lab/Noor/gabeen/system-files/Pepper-ONI_v1-001/oni_params.json\n",
      "all checks passed!\n"
     ]
    }
   ],
   "source": [
    "compile_protocol('Pepper-ONI_v1-001','test',parent_dir)"
   ]
  },
  {
   "cell_type": "code",
   "execution_count": null,
   "metadata": {},
   "outputs": [],
   "source": []
  }
 ],
 "metadata": {
  "kernelspec": {
   "display_name": "gabeen-testing",
   "language": "python",
   "name": "python3"
  },
  "language_info": {
   "codemirror_mode": {
    "name": "ipython",
    "version": 3
   },
   "file_extension": ".py",
   "mimetype": "text/x-python",
   "name": "python",
   "nbconvert_exporter": "python",
   "pygments_lexer": "ipython3",
   "version": "3.6.6"
  }
 },
 "nbformat": 4,
 "nbformat_minor": 2
}
