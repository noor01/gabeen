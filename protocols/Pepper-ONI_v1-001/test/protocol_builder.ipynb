{
 "cells": [
  {
   "cell_type": "code",
   "execution_count": 3,
   "metadata": {},
   "outputs": [],
   "source": [
    "%load_ext autoreload\n",
    "%autoreload 2\n",
    "import json\n",
    "import sys\n",
    "import os\n",
    "import pandas as pd\n",
    "from math import floor\n",
    "import numpy as np\n",
    "import pickle\n",
    "sys.path.append(os.path.abspath('../../../utils'))\n",
    "from protocol_system_compiler import *"
   ]
  },
  {
   "cell_type": "code",
   "execution_count": 2,
   "metadata": {},
   "outputs": [],
   "source": [
    "fluids = pd.read_csv('fluids.csv')"
   ]
  },
  {
   "cell_type": "code",
   "execution_count": 3,
   "metadata": {},
   "outputs": [
    {
     "data": {
      "text/html": [
       "<div>\n",
       "<style scoped>\n",
       "    .dataframe tbody tr th:only-of-type {\n",
       "        vertical-align: middle;\n",
       "    }\n",
       "\n",
       "    .dataframe tbody tr th {\n",
       "        vertical-align: top;\n",
       "    }\n",
       "\n",
       "    .dataframe thead th {\n",
       "        text-align: right;\n",
       "    }\n",
       "</style>\n",
       "<table border=\"1\" class=\"dataframe\">\n",
       "  <thead>\n",
       "    <tr style=\"text-align: right;\">\n",
       "      <th></th>\n",
       "      <th>NodeID</th>\n",
       "      <th>FluidType</th>\n",
       "      <th>BufferName</th>\n",
       "      <th>LoadVolume</th>\n",
       "    </tr>\n",
       "  </thead>\n",
       "  <tbody>\n",
       "    <tr>\n",
       "      <th>0</th>\n",
       "      <td>ot2</td>\n",
       "      <td>source</td>\n",
       "      <td>ot2</td>\n",
       "      <td>3</td>\n",
       "    </tr>\n",
       "    <tr>\n",
       "      <th>1</th>\n",
       "      <td>2</td>\n",
       "      <td>source</td>\n",
       "      <td>wash buffer</td>\n",
       "      <td>40</td>\n",
       "    </tr>\n",
       "    <tr>\n",
       "      <th>2</th>\n",
       "      <td>3</td>\n",
       "      <td>source</td>\n",
       "      <td>imaging buffer</td>\n",
       "      <td>21</td>\n",
       "    </tr>\n",
       "    <tr>\n",
       "      <th>3</th>\n",
       "      <td>4</td>\n",
       "      <td>source</td>\n",
       "      <td>tcep</td>\n",
       "      <td>20</td>\n",
       "    </tr>\n",
       "    <tr>\n",
       "      <th>4</th>\n",
       "      <td>5</td>\n",
       "      <td>source</td>\n",
       "      <td>2x-SSC</td>\n",
       "      <td>50</td>\n",
       "    </tr>\n",
       "    <tr>\n",
       "      <th>5</th>\n",
       "      <td>6</td>\n",
       "      <td>source</td>\n",
       "      <td>universal_fluors</td>\n",
       "      <td>15</td>\n",
       "    </tr>\n",
       "    <tr>\n",
       "      <th>6</th>\n",
       "      <td>7</td>\n",
       "      <td>source</td>\n",
       "      <td>NaN</td>\n",
       "      <td>0</td>\n",
       "    </tr>\n",
       "    <tr>\n",
       "      <th>7</th>\n",
       "      <td>8</td>\n",
       "      <td>source</td>\n",
       "      <td>NaN</td>\n",
       "      <td>0</td>\n",
       "    </tr>\n",
       "    <tr>\n",
       "      <th>8</th>\n",
       "      <td>waste</td>\n",
       "      <td>destination</td>\n",
       "      <td>waste_tank</td>\n",
       "      <td>0</td>\n",
       "    </tr>\n",
       "  </tbody>\n",
       "</table>\n",
       "</div>"
      ],
      "text/plain": [
       "  NodeID    FluidType        BufferName  LoadVolume\n",
       "0    ot2       source               ot2           3\n",
       "1      2       source       wash buffer          40\n",
       "2      3       source    imaging buffer          21\n",
       "3      4       source              tcep          20\n",
       "4      5       source            2x-SSC          50\n",
       "5      6       source  universal_fluors          15\n",
       "6      7       source               NaN           0\n",
       "7      8       source               NaN           0\n",
       "8  waste  destination        waste_tank           0"
      ]
     },
     "execution_count": 3,
     "metadata": {},
     "output_type": "execute_result"
    }
   ],
   "source": [
    "fluids"
   ]
  },
  {
   "cell_type": "code",
   "execution_count": 4,
   "metadata": {},
   "outputs": [],
   "source": [
    "labware = {'tips_200':{\n",
    "    'api_name': 'opentrons_96_filtertiprack_200ul',\n",
    "    'location': '1',\n",
    "    'creator': 'opentrons'\n",
    "},\n",
    "           'tips_1000':{\n",
    "    'api_name': 'opentrons_96_filtertiprack_1000ul',\n",
    "    'location': '3',\n",
    "    'creator': 'opentrons'\n",
    "},\n",
    "              'reservoir1':{\n",
    "    'api_name': 'nest_12_reservoir_15ml',\n",
    "    'location': '5',\n",
    "    'creator': 'opentrons'\n",
    "                },\n",
    "              'wellplate1':{\n",
    "    'api_name': 'nest_96_wellplate_2ml_deep',\n",
    "    'location': '7',\n",
    "    'creator': 'opentrons'\n",
    "                },\n",
    "              'syringe_adapter':{\n",
    "    'api_name': 'yeolab_1_bd_syringe_adap_3000ul',\n",
    "    'location': '10',\n",
    "    'creator': 'custom'\n",
    "                },\n",
    "              }\n",
    "hardware = {'p200':{\n",
    "    'api_name': 'p300_single_gen2',\n",
    "    'mount': 'left',\n",
    "    'tip_racks': ['tips_200']},\n",
    "            'p1000':{\n",
    "    'api_name': 'p1000_single_gen2',\n",
    "    'mount': 'right',\n",
    "    'tip_racks': ['tips_1000']}}\n",
    "\n",
    "metadata = {'apiLevel': '2.14'}\n",
    "\n",
    "ot2_config = {'labware':labware,\n",
    "              'hardware':hardware,\n",
    "              'metadata':metadata}"
   ]
  },
  {
   "cell_type": "code",
   "execution_count": 5,
   "metadata": {},
   "outputs": [],
   "source": [
    "def get_fluid_node(buffer):\n",
    "    return fluids[fluids['BufferName']==buffer]['NodeID'].iloc[0]"
   ]
  },
  {
   "cell_type": "code",
   "execution_count": 18,
   "metadata": {},
   "outputs": [],
   "source": [
    "step_n = 0"
   ]
  },
  {
   "cell_type": "code",
   "execution_count": 7,
   "metadata": {},
   "outputs": [],
   "source": [
    "reagents = {}\n",
    "def generate_well_pos(well_num,total=96,ncol=12,nrow=8):\n",
    "    row = well_num//ncol\n",
    "    col = well_num%ncol\n",
    "    return chr(65+row)+str(col+1)"
   ]
  },
  {
   "cell_type": "code",
   "execution_count": 8,
   "metadata": {},
   "outputs": [],
   "source": [
    "num_rounds = 10\n",
    "for i in range(num_rounds):\n",
    "    reagents['round'+str(i+1)] = {'labware':'wellplate1',\n",
    "                                'location':generate_well_pos(i),\n",
    "                                'volume':750,\n",
    "                           'hardware':'p1000',\n",
    "                           'repeat':2}"
   ]
  },
  {
   "cell_type": "code",
   "execution_count": 9,
   "metadata": {},
   "outputs": [],
   "source": [
    "# Add adapter wash buffer for flushing flow cell + flow line from OT-2\n",
    "for i in range(num_rounds):\n",
    "    reagents['adap_wash_'+str(i+1)+'_1'] = {'labware':'wellplate1',\n",
    "                                            'location':f'C{i+1}',\n",
    "                                            'volume':1000,\n",
    "                                            'hardware':'p1000',\n",
    "                                            'repeat':1}\n",
    "    reagents['adap_wash_'+str(i+1)+'_2'] = {'labware':'wellplate1',\n",
    "                                            'location':f'D{i+1}',\n",
    "                                            'volume':1000,\n",
    "                                            'hardware':'p1000',\n",
    "                                            'repeat':1}"
   ]
  },
  {
   "cell_type": "code",
   "execution_count": 10,
   "metadata": {},
   "outputs": [
    {
     "data": {
      "text/plain": [
       "{'labware': 'wellplate1',\n",
       " 'location': 'D7',\n",
       " 'volume': 1000,\n",
       " 'hardware': 'p1000',\n",
       " 'repeat': 1}"
      ]
     },
     "execution_count": 10,
     "metadata": {},
     "output_type": "execute_result"
    }
   ],
   "source": [
    "reagents['adap_wash_7_2']"
   ]
  },
  {
   "cell_type": "code",
   "execution_count": 40,
   "metadata": {},
   "outputs": [],
   "source": [
    "experiment = {}"
   ]
  },
  {
   "cell_type": "code",
   "execution_count": 41,
   "metadata": {},
   "outputs": [],
   "source": [
    "experiment[step_n] = {}\n",
    "experiment[step_n]['step_type'] = 'image'\n",
    "experiment[step_n]['step_metadata'] = {}\n",
    "experiment[step_n]['step_metadata']['filename'] = f'round_{round_n}'\n",
    "experiment[step_n]['step_metadata']['callibrate_af'] = False\n",
    "experiment[step_n]['slack_notify'] = True\n",
    "step_n += 1"
   ]
  },
  {
   "cell_type": "code",
   "execution_count": 12,
   "metadata": {},
   "outputs": [],
   "source": [
    "for round_n in range(1,11):\n",
    "    experiment[step_n] = {}\n",
    "    experiment[step_n]['step_type'] = 'liquid_handler'\n",
    "    experiment[step_n]['step_metadata'] = {}\n",
    "    experiment[step_n]['step_metadata']['reagent'] = f'round{round_n}'\n",
    "    experiment[step_n]['step_metadata']['info'] = reagents[f'round{round_n}']\n",
    "    experiment[step_n]['step_metadata']['destination'] = 'syringe_adapter'\n",
    "    experiment[step_n]['slack_notify'] = False\n",
    "    step_n += 1\n",
    "    \n",
    "    experiment[step_n] = {}\n",
    "    experiment[step_n]['step_type'] = 'fluid'\n",
    "    experiment[step_n]['step_metadata'] = {}\n",
    "    experiment[step_n]['step_metadata']['fluid'] = get_fluid_node('ot2')\n",
    "    experiment[step_n]['step_metadata']['volume'] = 1.5\n",
    "    experiment[step_n]['step_metadata']['speed'] = 1\n",
    "    experiment[step_n]['slack_notify'] = False\n",
    "    step_n += 1\n",
    "    \n",
    "    experiment[step_n] = {}\n",
    "    experiment[step_n]['step_type'] = 'wait'\n",
    "    experiment[step_n]['step_metadata'] = {}\n",
    "    experiment[step_n]['step_metadata']['wait_time'] = 15*60 # 15 minutes\n",
    "    experiment[step_n]['slack_notify'] = False\n",
    "    step_n += 1\n",
    "    \n",
    "    experiment[step_n] = {}\n",
    "    experiment[step_n]['step_type'] = 'liquid_handler'\n",
    "    experiment[step_n]['step_metadata'] = {}\n",
    "    experiment[step_n]['step_metadata']['reagent'] = f'adap_wash_{round_n}_1'\n",
    "    experiment[step_n]['step_metadata']['info'] = reagents[f'adap_wash_{round_n}_1']\n",
    "    experiment[step_n]['step_metadata']['destination'] = 'syringe_adapter'\n",
    "    experiment[step_n]['slack_notify'] = False\n",
    "    step_n += 1\n",
    "    \n",
    "    experiment[step_n] = {}\n",
    "    experiment[step_n]['step_type'] = 'liquid_handler'\n",
    "    experiment[step_n]['step_metadata'] = {}\n",
    "    experiment[step_n]['step_metadata']['reagent'] = f'adap_wash_{round_n}_2'\n",
    "    experiment[step_n]['step_metadata']['info'] = reagents[f'adap_wash_{round_n}_2']\n",
    "    experiment[step_n]['step_metadata']['destination'] = 'syringe_adapter'\n",
    "    experiment[step_n]['slack_notify'] = False\n",
    "    step_n += 1\n",
    "    \n",
    "    experiment[step_n] = {}\n",
    "    experiment[step_n]['step_type'] = 'fluid'\n",
    "    experiment[step_n]['step_metadata'] = {}\n",
    "    experiment[step_n]['step_metadata']['fluid'] = get_fluid_node('ot2')\n",
    "    experiment[step_n]['step_metadata']['volume'] = 2.0\n",
    "    experiment[step_n]['step_metadata']['speed'] = 1\n",
    "    experiment[step_n]['slack_notify'] = False\n",
    "    step_n += 1\n",
    "    \n",
    "    experiment[step_n] = {}\n",
    "    experiment[step_n]['step_type'] = 'fluid'\n",
    "    experiment[step_n]['step_metadata'] = {}\n",
    "    experiment[step_n]['step_metadata']['fluid'] = get_fluid_node('universal_fluors')\n",
    "    experiment[step_n]['step_metadata']['volume'] = 1.5\n",
    "    experiment[step_n]['step_metadata']['speed'] = 0.5\n",
    "    experiment[step_n]['slack_notify'] = False\n",
    "    step_n += 1\n",
    "    \n",
    "    experiment[step_n] = {}\n",
    "    experiment[step_n]['step_type'] = 'wait'\n",
    "    experiment[step_n]['step_metadata'] = {}\n",
    "    experiment[step_n]['step_metadata']['wait_time'] = 15*60 # 15 minutes\n",
    "    experiment[step_n]['slack_notify'] = False\n",
    "    step_n += 1\n",
    "    \n",
    "    experiment[step_n] = {}\n",
    "    experiment[step_n]['step_type'] = 'fluid'\n",
    "    experiment[step_n]['step_metadata'] = {}\n",
    "    experiment[step_n]['step_metadata']['fluid'] = get_fluid_node('wash buffer')\n",
    "    experiment[step_n]['step_metadata']['volume'] = 2\n",
    "    experiment[step_n]['step_metadata']['speed'] = 1\n",
    "    experiment[step_n]['slack_notify'] = False\n",
    "    step_n += 1\n",
    "    \n",
    "    experiment[step_n] = {}\n",
    "    experiment[step_n]['step_type'] = 'fluid'\n",
    "    experiment[step_n]['step_metadata'] = {}\n",
    "    experiment[step_n]['step_metadata']['fluid'] = get_fluid_node('imaging buffer')\n",
    "    experiment[step_n]['step_metadata']['volume'] = 1.5\n",
    "    experiment[step_n]['step_metadata']['speed'] = 0.5\n",
    "    experiment[step_n]['slack_notify'] = False\n",
    "    step_n += 1\n",
    "    \n",
    "    experiment[step_n] = {}\n",
    "    experiment[step_n]['step_type'] = 'wait'\n",
    "    experiment[step_n]['step_metadata'] = {}\n",
    "    experiment[step_n]['step_metadata']['wait_time'] = 5*60 # 5 minutes\n",
    "    experiment[step_n]['slack_notify'] = False\n",
    "    step_n += 1\n",
    "    \n",
    "    experiment[step_n] = {}\n",
    "    experiment[step_n]['step_type'] = 'image'\n",
    "    experiment[step_n]['step_metadata'] = {}\n",
    "    experiment[step_n]['step_metadata']['filename'] = f'round_{round_n}'\n",
    "    experiment[step_n]['step_metadata']['callibrate_af'] = True\n",
    "    experiment[step_n]['slack_notify'] = True\n",
    "    step_n += 1\n",
    "    \n",
    "    experiment[step_n] = {}\n",
    "    experiment[step_n]['step_type'] = 'fluid'\n",
    "    experiment[step_n]['step_metadata'] = {}\n",
    "    experiment[step_n]['step_metadata']['fluid'] = get_fluid_node('tcep')\n",
    "    experiment[step_n]['step_metadata']['volume'] = 2\n",
    "    experiment[step_n]['step_metadata']['speed'] = 0.5\n",
    "    experiment[step_n]['slack_notify'] = False\n",
    "    step_n += 1\n",
    "    \n",
    "    experiment[step_n] = {}\n",
    "    experiment[step_n]['step_type'] = 'wait'\n",
    "    experiment[step_n]['step_metadata'] = {}\n",
    "    experiment[step_n]['step_metadata']['wait_time'] = 5*60 # 5 minutes\n",
    "    experiment[step_n]['slack_notify'] = False\n",
    "    step_n += 1\n",
    "    \n",
    "    experiment[step_n] = {}\n",
    "    experiment[step_n]['step_type'] = 'fluid'\n",
    "    experiment[step_n]['step_metadata'] = {}\n",
    "    experiment[step_n]['step_metadata']['fluid'] = get_fluid_node('2x-SSC')\n",
    "    experiment[step_n]['step_metadata']['volume'] = 5\n",
    "    experiment[step_n]['step_metadata']['speed'] = 1\n",
    "    experiment[step_n]['slack_notify'] = False\n",
    "    step_n += 1"
   ]
  },
  {
   "cell_type": "code",
   "execution_count": 20,
   "metadata": {},
   "outputs": [
    {
     "data": {
      "text/plain": [
       "{0: {'step_type': 'image',\n",
       "  'step_metadata': {'filename': 'round_10', 'callibrate_af': True},\n",
       "  'slack_notify': True}}"
      ]
     },
     "execution_count": 20,
     "metadata": {},
     "output_type": "execute_result"
    }
   ],
   "source": [
    "experiment"
   ]
  },
  {
   "cell_type": "code",
   "execution_count": 42,
   "metadata": {},
   "outputs": [],
   "source": [
    "with open('experiment.json', 'w+') as f:\n",
    "    json.dump(experiment, f, indent=4)\n"
   ]
  },
  {
   "cell_type": "code",
   "execution_count": 22,
   "metadata": {},
   "outputs": [],
   "source": [
    "with open('ot2_config.json', 'w+') as f:\n",
    "    json.dump(ot2_config, f, indent=4)\n"
   ]
  },
  {
   "cell_type": "code",
   "execution_count": 4,
   "metadata": {},
   "outputs": [],
   "source": [
    "corners = [[0.0*1000,0.0*1000, -456.0],\n",
    "           [0.0*1000,0.5*1000, -456.0],\n",
    "           [0.5*1000,0.5*1000, -456.0],\n",
    "           [0.5*1000,0.0*1000, -456.0]\n",
    "           ]"
   ]
  },
  {
   "cell_type": "code",
   "execution_count": 5,
   "metadata": {},
   "outputs": [],
   "source": [
    "x_diff = corners[2][0]-corners[0][0]\n",
    "y_diff = corners[2][1]-corners[0][1]"
   ]
  },
  {
   "cell_type": "code",
   "execution_count": 6,
   "metadata": {},
   "outputs": [
    {
     "data": {
      "text/plain": [
       "5.990893907079166"
      ]
     },
     "execution_count": 6,
     "metadata": {},
     "output_type": "execute_result"
    }
   ],
   "source": [
    "x_diff / (0.08345999908447266*1000)"
   ]
  },
  {
   "cell_type": "code",
   "execution_count": 7,
   "metadata": {},
   "outputs": [
    {
     "data": {
      "text/plain": [
       "3.7486882508344688"
      ]
     },
     "execution_count": 7,
     "metadata": {},
     "output_type": "execute_result"
    }
   ],
   "source": [
    "y_diff / (0.13337998962402345*1000)"
   ]
  },
  {
   "cell_type": "code",
   "execution_count": 23,
   "metadata": {},
   "outputs": [],
   "source": [
    "oni_params = {\n",
    "    \"cropping\": {\n",
    "        \"top-left\": [130, 5],\n",
    "        \"top-right\": [140, 595],\n",
    "        \"width\": 428,\n",
    "        \"height\": 684\n",
    "    },\n",
    "    \"safe_focus\": {\n",
    "        \"upper_thresh\": -300,\n",
    "        \"lower_thresh\": -500,\n",
    "        \"af_intensity_thresh\":3000\n",
    "    },\n",
    "    \"microscope_name\": \"60xAALZ7W2T\",\n",
    "    \"xy_positions_mm\": {},\n",
    "    \"z_relative_positions_um\": [],\n",
    "    \"light_program\":[{'laser_power': [15.0, 0.0, 0.0, 0.0], 'exposure_ms': 33}, # ordered 405, 488, 561, 640\n",
    "                     {'laser_power': [0.0, 0.0, 15.0, 0.0], 'exposure_ms': 100},\n",
    "                     {'laser_power': [0.0, 0.0, 0.0, 15.0], 'exposure_ms': 100}\n",
    "                     ],\n",
    "    \"start_z\": -456,\n",
    "    \"num_z_slices\": 20,\n",
    "    \"relative_top_z_um\": 2.0,\n",
    "    \"relative_bottom_z_um\": -4.0,\n",
    "    'fovIncrement_mm': {'x': 0.08345999908447266,'y': 0.13337998962402345}, # ONI default with no overlap\n",
    "    'save_destination': \"D:/\",\n",
    "    'autofocus_interval':1,\n",
    "    'autofocus_points':5,\n",
    "    'max_af_search': 25\n",
    "}\n",
    "\n",
    "def _make_tiles(starting_pos,n_x,n_y,x_inc_um,y_inc_um):\n",
    "        x_start = starting_pos['x']\n",
    "        y_start = starting_pos['y']\n",
    "        positions = []\n",
    "        xs = list(range(0,n_x))\n",
    "        ys = list(range(0,n_y))\n",
    "        if (len(ys) % 2) == 0:\n",
    "            all_xs = (xs + list(reversed(xs)))*floor(len(ys)/2)\n",
    "        else:\n",
    "            all_xs = (xs + list(reversed(xs)))*floor(len(ys)/2)\n",
    "            all_xs += xs\n",
    "        all_ys = []\n",
    "        for y in ys:\n",
    "            all_ys += [y]*len(xs)\n",
    "        tmp_positions = list(zip(all_xs,all_ys))\n",
    "        positions = []\n",
    "        for pos in tmp_positions:\n",
    "            positions.append([x_start + (pos[0] * x_inc_um), y_start + (pos[1] * y_inc_um)])\n",
    "        return positions\n",
    "\n",
    "# custom_positions = None\n",
    "def position_generator(oni_params,custom_positions,starting_xy_um={'x':0,'y':0},tile_num_x=1,tile_num_y=1,overlap=0.0):\n",
    "    if custom_positions is not None:\n",
    "        oni_params['xy_positions_mm'] = custom_positions\n",
    "    else:\n",
    "        x_inc_um = (oni_params['fovIncrement_mm']['x'] * 1000) * (1 - overlap)\n",
    "        y_inc_um = (oni_params['fovIncrement_mm']['y'] * 1000) * (1 - overlap)\n",
    "        oni_params['xy_positions_mm'] = _make_tiles(starting_xy_um,tile_num_x,tile_num_y,x_inc_um,y_inc_um)\n",
    "    # generate relative_zs\n",
    "    oni_params['z_relative_positions_um'] = np.linspace(oni_params['relative_top_z_um'],oni_params['relative_bottom_z_um'],oni_params['num_z_slices']).tolist()\n",
    "    return oni_params"
   ]
  },
  {
   "cell_type": "code",
   "execution_count": 24,
   "metadata": {},
   "outputs": [],
   "source": [
    "oni_params = position_generator(oni_params,None,{'x':corners[0][0],'y':corners[0][1]},2,2,0.1)"
   ]
  },
  {
   "cell_type": "code",
   "execution_count": 25,
   "metadata": {},
   "outputs": [
    {
     "data": {
      "text/plain": [
       "4"
      ]
     },
     "execution_count": 25,
     "metadata": {},
     "output_type": "execute_result"
    }
   ],
   "source": [
    "len(oni_params['xy_positions_mm'])"
   ]
  },
  {
   "cell_type": "code",
   "execution_count": 26,
   "metadata": {},
   "outputs": [],
   "source": [
    "with open('oni_params.pkl', 'wb') as f:\n",
    "    pickle.dump(oni_params, f)"
   ]
  },
  {
   "cell_type": "code",
   "execution_count": 61,
   "metadata": {},
   "outputs": [
    {
     "data": {
      "text/plain": [
       "{'cropping': {'top-left': [130, 5],\n",
       "  'top-right': [140, 595],\n",
       "  'width': 428,\n",
       "  'height': 684},\n",
       " 'safe_focus': {'upper_thresh': -300,\n",
       "  'lower_thresh': -500,\n",
       "  'af_intensity_thresh': 2000},\n",
       " 'microscope_name': '60xAALZ7W2T',\n",
       " 'xy_positions_mm': [[0.0, 0.0],\n",
       "  [75.11399917602539, 0.0],\n",
       "  [150.22799835205078, 0.0],\n",
       "  [225.34199752807615, 0.0],\n",
       "  [300.45599670410155, 0.0],\n",
       "  [375.56999588012695, 0.0],\n",
       "  [450.6839950561523, 0.0],\n",
       "  [525.7979942321778, 0.0],\n",
       "  [600.9119934082031, 0.0],\n",
       "  [676.0259925842284, 0.0],\n",
       "  [751.1399917602539, 0.0],\n",
       "  [826.2539909362793, 0.0],\n",
       "  [826.2539909362793, 120.0419906616211],\n",
       "  [751.1399917602539, 120.0419906616211],\n",
       "  [676.0259925842284, 120.0419906616211],\n",
       "  [600.9119934082031, 120.0419906616211],\n",
       "  [525.7979942321778, 120.0419906616211],\n",
       "  [450.6839950561523, 120.0419906616211],\n",
       "  [375.56999588012695, 120.0419906616211],\n",
       "  [300.45599670410155, 120.0419906616211],\n",
       "  [225.34199752807615, 120.0419906616211],\n",
       "  [150.22799835205078, 120.0419906616211],\n",
       "  [75.11399917602539, 120.0419906616211],\n",
       "  [0.0, 120.0419906616211],\n",
       "  [0.0, 240.0839813232422],\n",
       "  [75.11399917602539, 240.0839813232422],\n",
       "  [150.22799835205078, 240.0839813232422],\n",
       "  [225.34199752807615, 240.0839813232422],\n",
       "  [300.45599670410155, 240.0839813232422],\n",
       "  [375.56999588012695, 240.0839813232422],\n",
       "  [450.6839950561523, 240.0839813232422],\n",
       "  [525.7979942321778, 240.0839813232422],\n",
       "  [600.9119934082031, 240.0839813232422],\n",
       "  [676.0259925842284, 240.0839813232422],\n",
       "  [751.1399917602539, 240.0839813232422],\n",
       "  [826.2539909362793, 240.0839813232422],\n",
       "  [826.2539909362793, 360.1259719848633],\n",
       "  [751.1399917602539, 360.1259719848633],\n",
       "  [676.0259925842284, 360.1259719848633],\n",
       "  [600.9119934082031, 360.1259719848633],\n",
       "  [525.7979942321778, 360.1259719848633],\n",
       "  [450.6839950561523, 360.1259719848633],\n",
       "  [375.56999588012695, 360.1259719848633],\n",
       "  [300.45599670410155, 360.1259719848633],\n",
       "  [225.34199752807615, 360.1259719848633],\n",
       "  [150.22799835205078, 360.1259719848633],\n",
       "  [75.11399917602539, 360.1259719848633],\n",
       "  [0.0, 360.1259719848633],\n",
       "  [0.0, 480.1679626464844],\n",
       "  [75.11399917602539, 480.1679626464844],\n",
       "  [150.22799835205078, 480.1679626464844],\n",
       "  [225.34199752807615, 480.1679626464844],\n",
       "  [300.45599670410155, 480.1679626464844],\n",
       "  [375.56999588012695, 480.1679626464844],\n",
       "  [450.6839950561523, 480.1679626464844],\n",
       "  [525.7979942321778, 480.1679626464844],\n",
       "  [600.9119934082031, 480.1679626464844],\n",
       "  [676.0259925842284, 480.1679626464844],\n",
       "  [751.1399917602539, 480.1679626464844],\n",
       "  [826.2539909362793, 480.1679626464844],\n",
       "  [826.2539909362793, 600.2099533081055],\n",
       "  [751.1399917602539, 600.2099533081055],\n",
       "  [676.0259925842284, 600.2099533081055],\n",
       "  [600.9119934082031, 600.2099533081055],\n",
       "  [525.7979942321778, 600.2099533081055],\n",
       "  [450.6839950561523, 600.2099533081055],\n",
       "  [375.56999588012695, 600.2099533081055],\n",
       "  [300.45599670410155, 600.2099533081055],\n",
       "  [225.34199752807615, 600.2099533081055],\n",
       "  [150.22799835205078, 600.2099533081055],\n",
       "  [75.11399917602539, 600.2099533081055],\n",
       "  [0.0, 600.2099533081055],\n",
       "  [0.0, 720.2519439697267],\n",
       "  [75.11399917602539, 720.2519439697267],\n",
       "  [150.22799835205078, 720.2519439697267],\n",
       "  [225.34199752807615, 720.2519439697267],\n",
       "  [300.45599670410155, 720.2519439697267],\n",
       "  [375.56999588012695, 720.2519439697267],\n",
       "  [450.6839950561523, 720.2519439697267],\n",
       "  [525.7979942321778, 720.2519439697267],\n",
       "  [600.9119934082031, 720.2519439697267],\n",
       "  [676.0259925842284, 720.2519439697267],\n",
       "  [751.1399917602539, 720.2519439697267],\n",
       "  [826.2539909362793, 720.2519439697267],\n",
       "  [826.2539909362793, 840.2939346313477],\n",
       "  [751.1399917602539, 840.2939346313477],\n",
       "  [676.0259925842284, 840.2939346313477],\n",
       "  [600.9119934082031, 840.2939346313477],\n",
       "  [525.7979942321778, 840.2939346313477],\n",
       "  [450.6839950561523, 840.2939346313477],\n",
       "  [375.56999588012695, 840.2939346313477],\n",
       "  [300.45599670410155, 840.2939346313477],\n",
       "  [225.34199752807615, 840.2939346313477],\n",
       "  [150.22799835205078, 840.2939346313477],\n",
       "  [75.11399917602539, 840.2939346313477],\n",
       "  [0.0, 840.2939346313477],\n",
       "  [0.0, 960.3359252929688],\n",
       "  [75.11399917602539, 960.3359252929688],\n",
       "  [150.22799835205078, 960.3359252929688],\n",
       "  [225.34199752807615, 960.3359252929688],\n",
       "  [300.45599670410155, 960.3359252929688],\n",
       "  [375.56999588012695, 960.3359252929688],\n",
       "  [450.6839950561523, 960.3359252929688],\n",
       "  [525.7979942321778, 960.3359252929688],\n",
       "  [600.9119934082031, 960.3359252929688],\n",
       "  [676.0259925842284, 960.3359252929688],\n",
       "  [751.1399917602539, 960.3359252929688],\n",
       "  [826.2539909362793, 960.3359252929688],\n",
       "  [826.2539909362793, 1080.37791595459],\n",
       "  [751.1399917602539, 1080.37791595459],\n",
       "  [676.0259925842284, 1080.37791595459],\n",
       "  [600.9119934082031, 1080.37791595459],\n",
       "  [525.7979942321778, 1080.37791595459],\n",
       "  [450.6839950561523, 1080.37791595459],\n",
       "  [375.56999588012695, 1080.37791595459],\n",
       "  [300.45599670410155, 1080.37791595459],\n",
       "  [225.34199752807615, 1080.37791595459],\n",
       "  [150.22799835205078, 1080.37791595459],\n",
       "  [75.11399917602539, 1080.37791595459],\n",
       "  [0.0, 1080.37791595459],\n",
       "  [0.0, 1200.419906616211],\n",
       "  [75.11399917602539, 1200.419906616211],\n",
       "  [150.22799835205078, 1200.419906616211],\n",
       "  [225.34199752807615, 1200.419906616211],\n",
       "  [300.45599670410155, 1200.419906616211],\n",
       "  [375.56999588012695, 1200.419906616211],\n",
       "  [450.6839950561523, 1200.419906616211],\n",
       "  [525.7979942321778, 1200.419906616211],\n",
       "  [600.9119934082031, 1200.419906616211],\n",
       "  [676.0259925842284, 1200.419906616211],\n",
       "  [751.1399917602539, 1200.419906616211],\n",
       "  [826.2539909362793, 1200.419906616211],\n",
       "  [826.2539909362793, 1320.4618972778321],\n",
       "  [751.1399917602539, 1320.4618972778321],\n",
       "  [676.0259925842284, 1320.4618972778321],\n",
       "  [600.9119934082031, 1320.4618972778321],\n",
       "  [525.7979942321778, 1320.4618972778321],\n",
       "  [450.6839950561523, 1320.4618972778321],\n",
       "  [375.56999588012695, 1320.4618972778321],\n",
       "  [300.45599670410155, 1320.4618972778321],\n",
       "  [225.34199752807615, 1320.4618972778321],\n",
       "  [150.22799835205078, 1320.4618972778321],\n",
       "  [75.11399917602539, 1320.4618972778321],\n",
       "  [0.0, 1320.4618972778321]],\n",
       " 'z_relative_positions_um': [4.0,\n",
       "  3.111111111111111,\n",
       "  2.2222222222222223,\n",
       "  1.3333333333333335,\n",
       "  0.44444444444444464,\n",
       "  -0.44444444444444464,\n",
       "  -1.333333333333333,\n",
       "  -2.2222222222222214,\n",
       "  -3.1111111111111107,\n",
       "  -4.0],\n",
       " 'light_program': [{'laser_power': [15.0, 0.0, 0.0, 0.0], 'exposure_ms': 33},\n",
       "  {'laser_power': [0.0, 0.0, 15.0, 0.0], 'exposure_ms': 100},\n",
       "  {'laser_power': [0.0, 0.0, 0.0, 15.0], 'exposure_ms': 100}],\n",
       " 'start_z': -456,\n",
       " 'num_z_slices': 10,\n",
       " 'relative_top_z_um': 4.0,\n",
       " 'relative_bottom_z_um': -4.0,\n",
       " 'fovIncrement_mm': {'x': 0.08345999908447266, 'y': 0.13337998962402345},\n",
       " 'save_destination': 'D:/'}"
      ]
     },
     "execution_count": 61,
     "metadata": {},
     "output_type": "execute_result"
    }
   ],
   "source": [
    "oni_params"
   ]
  },
  {
   "cell_type": "code",
   "execution_count": 37,
   "metadata": {},
   "outputs": [
    {
     "data": {
      "text/html": [
       "<div>\n",
       "<style scoped>\n",
       "    .dataframe tbody tr th:only-of-type {\n",
       "        vertical-align: middle;\n",
       "    }\n",
       "\n",
       "    .dataframe tbody tr th {\n",
       "        vertical-align: top;\n",
       "    }\n",
       "\n",
       "    .dataframe thead th {\n",
       "        text-align: right;\n",
       "    }\n",
       "</style>\n",
       "<table border=\"1\" class=\"dataframe\">\n",
       "  <thead>\n",
       "    <tr style=\"text-align: right;\">\n",
       "      <th></th>\n",
       "      <th>NodeID</th>\n",
       "      <th>FluidType</th>\n",
       "      <th>BufferName</th>\n",
       "      <th>LoadVolume</th>\n",
       "    </tr>\n",
       "  </thead>\n",
       "  <tbody>\n",
       "    <tr>\n",
       "      <th>0</th>\n",
       "      <td>ot2</td>\n",
       "      <td>source</td>\n",
       "      <td>ot2</td>\n",
       "      <td>3</td>\n",
       "    </tr>\n",
       "    <tr>\n",
       "      <th>1</th>\n",
       "      <td>2</td>\n",
       "      <td>source</td>\n",
       "      <td>wash buffer</td>\n",
       "      <td>40</td>\n",
       "    </tr>\n",
       "    <tr>\n",
       "      <th>2</th>\n",
       "      <td>3</td>\n",
       "      <td>source</td>\n",
       "      <td>imaging buffer</td>\n",
       "      <td>21</td>\n",
       "    </tr>\n",
       "    <tr>\n",
       "      <th>3</th>\n",
       "      <td>4</td>\n",
       "      <td>source</td>\n",
       "      <td>tcep</td>\n",
       "      <td>20</td>\n",
       "    </tr>\n",
       "    <tr>\n",
       "      <th>4</th>\n",
       "      <td>5</td>\n",
       "      <td>source</td>\n",
       "      <td>2x-SSC</td>\n",
       "      <td>50</td>\n",
       "    </tr>\n",
       "    <tr>\n",
       "      <th>5</th>\n",
       "      <td>6</td>\n",
       "      <td>source</td>\n",
       "      <td>universal_fluors</td>\n",
       "      <td>15</td>\n",
       "    </tr>\n",
       "    <tr>\n",
       "      <th>6</th>\n",
       "      <td>7</td>\n",
       "      <td>source</td>\n",
       "      <td>NaN</td>\n",
       "      <td>0</td>\n",
       "    </tr>\n",
       "    <tr>\n",
       "      <th>7</th>\n",
       "      <td>8</td>\n",
       "      <td>source</td>\n",
       "      <td>NaN</td>\n",
       "      <td>0</td>\n",
       "    </tr>\n",
       "    <tr>\n",
       "      <th>8</th>\n",
       "      <td>waste</td>\n",
       "      <td>destination</td>\n",
       "      <td>waste_tank</td>\n",
       "      <td>0</td>\n",
       "    </tr>\n",
       "  </tbody>\n",
       "</table>\n",
       "</div>"
      ],
      "text/plain": [
       "  NodeID    FluidType        BufferName  LoadVolume\n",
       "0    ot2       source               ot2           3\n",
       "1      2       source       wash buffer          40\n",
       "2      3       source    imaging buffer          21\n",
       "3      4       source              tcep          20\n",
       "4      5       source            2x-SSC          50\n",
       "5      6       source  universal_fluors          15\n",
       "6      7       source               NaN           0\n",
       "7      8       source               NaN           0\n",
       "8  waste  destination        waste_tank           0"
      ]
     },
     "execution_count": 37,
     "metadata": {},
     "output_type": "execute_result"
    }
   ],
   "source": [
    "fluids"
   ]
  },
  {
   "cell_type": "code",
   "execution_count": 38,
   "metadata": {},
   "outputs": [],
   "source": [
    "def get_fluid_name(nodeID):\n",
    "    return fluids[fluids['NodeID']==nodeID]['BufferName'].iloc[0]"
   ]
  },
  {
   "cell_type": "code",
   "execution_count": 39,
   "metadata": {},
   "outputs": [],
   "source": [
    "reagent_vols = {}\n",
    "for i in experiment.keys():\n",
    "    if experiment[i]['step_type'] == 'fluid':\n",
    "        buffer = get_fluid_name(experiment[i]['step_metadata']['fluid'])\n",
    "        if buffer not in reagent_vols:\n",
    "            reagent_vols[buffer] = 0\n",
    "        reagent_vols[buffer] += experiment[i]['step_metadata']['volume']"
   ]
  },
  {
   "cell_type": "code",
   "execution_count": 40,
   "metadata": {},
   "outputs": [
    {
     "data": {
      "text/plain": [
       "{'ot2': 15.0,\n",
       " 'wash buffer': 40,\n",
       " 'universal_fluors': 15.0,\n",
       " 'imaging buffer': 15.0,\n",
       " 'tcep': 18,\n",
       " '2x-SSC': 45}"
      ]
     },
     "execution_count": 40,
     "metadata": {},
     "output_type": "execute_result"
    }
   ],
   "source": [
    "reagent_vols"
   ]
  },
  {
   "cell_type": "code",
   "execution_count": 42,
   "metadata": {},
   "outputs": [
    {
     "name": "stdout",
     "output_type": "stream",
     "text": [
      "A1\n",
      "A2\n",
      "A3\n",
      "A4\n",
      "A5\n",
      "A6\n",
      "A7\n",
      "A8\n",
      "A9\n",
      "A10\n"
     ]
    }
   ],
   "source": [
    "for i in experiment.keys():\n",
    "    if experiment[i]['step_type'] == 'liquid_handler':\n",
    "        print(experiment[i]['step_metadata']['info']['location'])"
   ]
  },
  {
   "cell_type": "code",
   "execution_count": null,
   "metadata": {},
   "outputs": [],
   "source": []
  }
 ],
 "metadata": {
  "kernelspec": {
   "display_name": "gabeen-testing",
   "language": "python",
   "name": "python3"
  },
  "language_info": {
   "codemirror_mode": {
    "name": "ipython",
    "version": 3
   },
   "file_extension": ".py",
   "mimetype": "text/x-python",
   "name": "python",
   "nbconvert_exporter": "python",
   "pygments_lexer": "ipython3",
   "version": "3.9.16"
  }
 },
 "nbformat": 4,
 "nbformat_minor": 2
}
