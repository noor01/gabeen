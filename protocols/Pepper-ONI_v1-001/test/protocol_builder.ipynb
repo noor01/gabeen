{
 "cells": [
  {
   "cell_type": "code",
   "execution_count": 4,
   "metadata": {},
   "outputs": [],
   "source": [
    "import json\n",
    "import os\n",
    "import pandas as pd"
   ]
  },
  {
   "cell_type": "code",
   "execution_count": 5,
   "metadata": {},
   "outputs": [],
   "source": [
    "fluids = pd.read_csv('fluids.csv')"
   ]
  },
  {
   "cell_type": "code",
   "execution_count": 6,
   "metadata": {},
   "outputs": [
    {
     "data": {
      "text/html": [
       "<div>\n",
       "<style scoped>\n",
       "    .dataframe tbody tr th:only-of-type {\n",
       "        vertical-align: middle;\n",
       "    }\n",
       "\n",
       "    .dataframe tbody tr th {\n",
       "        vertical-align: top;\n",
       "    }\n",
       "\n",
       "    .dataframe thead th {\n",
       "        text-align: right;\n",
       "    }\n",
       "</style>\n",
       "<table border=\"1\" class=\"dataframe\">\n",
       "  <thead>\n",
       "    <tr style=\"text-align: right;\">\n",
       "      <th></th>\n",
       "      <th>NodeID</th>\n",
       "      <th>FluidType</th>\n",
       "      <th>BufferName</th>\n",
       "      <th>LoadVolume</th>\n",
       "    </tr>\n",
       "  </thead>\n",
       "  <tbody>\n",
       "    <tr>\n",
       "      <th>0</th>\n",
       "      <td>ot2</td>\n",
       "      <td>source</td>\n",
       "      <td>ot2</td>\n",
       "      <td>3</td>\n",
       "    </tr>\n",
       "    <tr>\n",
       "      <th>1</th>\n",
       "      <td>2</td>\n",
       "      <td>source</td>\n",
       "      <td>wash buffer</td>\n",
       "      <td>40</td>\n",
       "    </tr>\n",
       "    <tr>\n",
       "      <th>2</th>\n",
       "      <td>3</td>\n",
       "      <td>source</td>\n",
       "      <td>imaging buffer</td>\n",
       "      <td>21</td>\n",
       "    </tr>\n",
       "    <tr>\n",
       "      <th>3</th>\n",
       "      <td>4</td>\n",
       "      <td>source</td>\n",
       "      <td>tcep</td>\n",
       "      <td>20</td>\n",
       "    </tr>\n",
       "    <tr>\n",
       "      <th>4</th>\n",
       "      <td>5</td>\n",
       "      <td>source</td>\n",
       "      <td>2x-SSC</td>\n",
       "      <td>50</td>\n",
       "    </tr>\n",
       "    <tr>\n",
       "      <th>5</th>\n",
       "      <td>6</td>\n",
       "      <td>source</td>\n",
       "      <td>universal_fluors</td>\n",
       "      <td>15</td>\n",
       "    </tr>\n",
       "    <tr>\n",
       "      <th>6</th>\n",
       "      <td>waste</td>\n",
       "      <td>destination</td>\n",
       "      <td>waste_tank</td>\n",
       "      <td>0</td>\n",
       "    </tr>\n",
       "  </tbody>\n",
       "</table>\n",
       "</div>"
      ],
      "text/plain": [
       "  NodeID    FluidType        BufferName  LoadVolume\n",
       "0    ot2       source               ot2           3\n",
       "1      2       source       wash buffer          40\n",
       "2      3       source    imaging buffer          21\n",
       "3      4       source              tcep          20\n",
       "4      5       source            2x-SSC          50\n",
       "5      6       source  universal_fluors          15\n",
       "6  waste  destination        waste_tank           0"
      ]
     },
     "execution_count": 6,
     "metadata": {},
     "output_type": "execute_result"
    }
   ],
   "source": [
    "fluids"
   ]
  },
  {
   "cell_type": "code",
   "execution_count": 56,
   "metadata": {},
   "outputs": [],
   "source": [
    "labware = {'tips_200':{\n",
    "    'api_name': 'opentrons_96_filtertiprack_200ul',\n",
    "    'location': '1',\n",
    "    'creator': 'opentrons'\n",
    "},\n",
    "              'reservoir1':{\n",
    "    'api_name': 'nest_12_reservoir_15ml',\n",
    "    'location': '5',\n",
    "    'creator': 'opentrons'\n",
    "                },\n",
    "              'wellplate1':{\n",
    "    'api_name': 'nest_96_wellplate_2ml_deep',\n",
    "    'location': '7',\n",
    "    'creator': 'opentrons'\n",
    "                },\n",
    "              'syringe_adapter':{\n",
    "    'api_name': 'yeolab_1_bd_syringe_adap_3000ul',\n",
    "    'location': '10',\n",
    "    'creator': 'custom'\n",
    "                },\n",
    "              }\n",
    "hardware = {'p300':{\n",
    "    'api_name': 'p300_single_gen2',\n",
    "    'mount': 'left',\n",
    "    'tip_racks': ['tips_200']}}\n",
    "\n",
    "metadata = {'apiLevel': '2.14'}\n",
    "\n",
    "ot2_config = {'labware':labware,\n",
    "              'hardware':hardware,\n",
    "              'metadata':metadata}"
   ]
  },
  {
   "cell_type": "code",
   "execution_count": 79,
   "metadata": {},
   "outputs": [],
   "source": [
    "reagents = {}\n"
   ]
  },
  {
   "cell_type": "code",
   "execution_count": 80,
   "metadata": {},
   "outputs": [],
   "source": [
    "def generate_well_pos(well_num,total=96,ncol=12,nrow=8):\n",
    "    row = well_num//ncol\n",
    "    col = well_num%ncol\n",
    "    return chr(65+row)+str(col+1)"
   ]
  },
  {
   "cell_type": "code",
   "execution_count": 81,
   "metadata": {},
   "outputs": [],
   "source": [
    "num_rounds = 2\n",
    "for i in range(num_rounds):\n",
    "    reagents['round'+str(i+1)] = {'labware':'wellplate1',\n",
    "                                'location':generate_well_pos(i),\n",
    "                                'volume':75,\n",
    "                           'hardware':'p300',\n",
    "                           'repeat':2}"
   ]
  },
  {
   "cell_type": "code",
   "execution_count": 82,
   "metadata": {},
   "outputs": [],
   "source": [
    "def get_fluid_node(buffer):\n",
    "    return fluids[fluids['BufferName']==buffer]['NodeID'].iloc[0]"
   ]
  },
  {
   "cell_type": "code",
   "execution_count": 89,
   "metadata": {},
   "outputs": [],
   "source": [
    "experiment = {}"
   ]
  },
  {
   "cell_type": "code",
   "execution_count": 90,
   "metadata": {},
   "outputs": [],
   "source": [
    "step_n = 0"
   ]
  },
  {
   "cell_type": "code",
   "execution_count": 91,
   "metadata": {},
   "outputs": [
    {
     "data": {
      "text/plain": [
       "{'labware': 'wellplate1',\n",
       " 'location': 'A2',\n",
       " 'volume': 75,\n",
       " 'hardware': 'p300',\n",
       " 'repeat': 2}"
      ]
     },
     "execution_count": 91,
     "metadata": {},
     "output_type": "execute_result"
    }
   ],
   "source": [
    "reagents['round2']"
   ]
  },
  {
   "cell_type": "code",
   "execution_count": 92,
   "metadata": {},
   "outputs": [],
   "source": [
    "for round_n in range(1,3):\n",
    "    experiment[step_n] = {}\n",
    "    experiment[step_n]['step_type'] = 'liquid_handler'\n",
    "    experiment[step_n]['step_metadata'] = {}\n",
    "    experiment[step_n]['step_metadata']['reagent'] = f'round{round_n}'\n",
    "    experiment[step_n]['step_metadata']['info'] = reagents[f'round{round_n}']\n",
    "    experiment[step_n]['step_metadata']['destination'] = 'syringe_adapter'\n",
    "    experiment[step_n]['slack_notify'] = False\n",
    "    step_n += 1\n",
    "    \"\"\"\n",
    "    experiment[step_n] = {}\n",
    "    experiment[step_n]['step_type'] = 'fluid'\n",
    "    experiment[step_n]['step_metadata'] = {}\n",
    "    experiment[step_n]['step_metadata']['fluid'] = get_fluid_node('ot2')\n",
    "    experiment[step_n]['step_metadata']['volume'] = 1.5\n",
    "    experiment[step_n]['step_metadata']['speed'] = 1\n",
    "    experiment[step_n]['slack_notify'] = False\n",
    "    step_n += 1\n",
    "    \"\"\"\n",
    "    experiment[step_n] = {}\n",
    "    experiment[step_n]['step_type'] = 'wait'\n",
    "    experiment[step_n]['step_metadata'] = {}\n",
    "    experiment[step_n]['step_metadata']['wait_time'] = 10 # 15 minutes\n",
    "    experiment[step_n]['slack_notify'] = False\n",
    "    step_n += 1"
   ]
  },
  {
   "cell_type": "code",
   "execution_count": 93,
   "metadata": {},
   "outputs": [
    {
     "data": {
      "text/plain": [
       "{0: {'step_type': 'liquid_handler',\n",
       "  'step_metadata': {'reagent': 'round1',\n",
       "   'info': {'labware': 'wellplate1',\n",
       "    'location': 'A1',\n",
       "    'volume': 75,\n",
       "    'hardware': 'p300',\n",
       "    'repeat': 2},\n",
       "   'destination': 'syringe_adapter'},\n",
       "  'slack_notify': False},\n",
       " 1: {'step_type': 'wait',\n",
       "  'step_metadata': {'wait_time': 10},\n",
       "  'slack_notify': False},\n",
       " 2: {'step_type': 'liquid_handler',\n",
       "  'step_metadata': {'reagent': 'round2',\n",
       "   'info': {'labware': 'wellplate1',\n",
       "    'location': 'A2',\n",
       "    'volume': 75,\n",
       "    'hardware': 'p300',\n",
       "    'repeat': 2},\n",
       "   'destination': 'syringe_adapter'},\n",
       "  'slack_notify': False},\n",
       " 3: {'step_type': 'wait',\n",
       "  'step_metadata': {'wait_time': 10},\n",
       "  'slack_notify': False}}"
      ]
     },
     "execution_count": 93,
     "metadata": {},
     "output_type": "execute_result"
    }
   ],
   "source": [
    "experiment"
   ]
  },
  {
   "cell_type": "code",
   "execution_count": 88,
   "metadata": {},
   "outputs": [],
   "source": [
    "with open('experiment.json', 'w+') as f:\n",
    "    json.dump(experiment, f, indent=4)\n"
   ]
  },
  {
   "cell_type": "code",
   "execution_count": 78,
   "metadata": {},
   "outputs": [],
   "source": [
    "with open('ot2_config.json', 'w+') as f:\n",
    "    json.dump(ot2_config, f, indent=4)\n"
   ]
  },
  {
   "cell_type": "code",
   "execution_count": 34,
   "metadata": {},
   "outputs": [],
   "source": [
    "def get_tip_num(experiment,step_num):\n",
    "    # figure out which steps are liquid handling rounds\n",
    "    liquid_handling_steps = []\n",
    "    for step, value in experiment.items():\n",
    "        if value['step_type'] == 'liquid_handler':\n",
    "            liquid_handling_steps.append(step)\n",
    "    tip_num = liquid_handling_steps.index(step_num)\n",
    "    return tip_num"
   ]
  },
  {
   "cell_type": "code",
   "execution_count": 35,
   "metadata": {},
   "outputs": [
    {
     "data": {
      "text/plain": [
       "0"
      ]
     },
     "execution_count": 35,
     "metadata": {},
     "output_type": "execute_result"
    }
   ],
   "source": [
    "get_tip_num(experiment,0)"
   ]
  },
  {
   "cell_type": "code",
   "execution_count": null,
   "metadata": {},
   "outputs": [],
   "source": []
  }
 ],
 "metadata": {
  "kernelspec": {
   "display_name": "gabeen-testing",
   "language": "python",
   "name": "python3"
  },
  "language_info": {
   "codemirror_mode": {
    "name": "ipython",
    "version": 3
   },
   "file_extension": ".py",
   "mimetype": "text/x-python",
   "name": "python",
   "nbconvert_exporter": "python",
   "pygments_lexer": "ipython3",
   "version": "3.12.0"
  }
 },
 "nbformat": 4,
 "nbformat_minor": 2
}
